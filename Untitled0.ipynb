{
  "nbformat": 4,
  "nbformat_minor": 0,
  "metadata": {
    "colab": {
      "name": "Untitled0.ipynb",
      "provenance": [],
      "mount_file_id": "137sAOHYJCnHMazu6VRTu3YmBFj3Qb_MS",
      "authorship_tag": "ABX9TyOetiNN4yM7On/9EPDUPP+U",
      "include_colab_link": true
    },
    "kernelspec": {
      "name": "python3",
      "display_name": "Python 3"
    },
    "accelerator": "GPU"
  },
  "cells": [
    {
      "cell_type": "markdown",
      "metadata": {
        "id": "view-in-github",
        "colab_type": "text"
      },
      "source": [
        "<a href=\"https://colab.research.google.com/github/honginhwa/asdf/blob/master/Untitled0.ipynb\" target=\"_parent\"><img src=\"https://colab.research.google.com/assets/colab-badge.svg\" alt=\"Open In Colab\"/></a>"
      ]
    },
    {
      "cell_type": "code",
      "metadata": {
        "id": "9i0uLUferAxG",
        "outputId": "ad4f3512-a8ed-4eac-a6ec-17453e6b08e8",
        "colab": {
          "base_uri": "https://localhost:8080/",
          "height": 35
        }
      },
      "source": [
        "cd /content/drive/My Drive/Colab_Notebooks/facenet-pytorch-vggface2/models"
      ],
      "execution_count": 1,
      "outputs": [
        {
          "output_type": "stream",
          "text": [
            "/content/drive/My Drive/Colab_Notebooks/facenet-pytorch-vggface2\n"
          ],
          "name": "stdout"
        }
      ]
    },
    {
      "cell_type": "code",
      "metadata": {
        "id": "daEryTcVrfrx",
        "outputId": "8d2969de-126a-46bc-9d67-e94df81fca20",
        "colab": {
          "base_uri": "https://localhost:8080/",
          "height": 35
        }
      },
      "source": [
        "cd models"
      ],
      "execution_count": 3,
      "outputs": [
        {
          "output_type": "stream",
          "text": [
            "/content/drive/My Drive/Colab_Notebooks/facenet-pytorch-vggface2/models\n"
          ],
          "name": "stdout"
        }
      ]
    },
    {
      "cell_type": "code",
      "metadata": {
        "id": "8X62mwiqrONn",
        "outputId": "1cf348ae-f6a8-4749-ac46-f43e5415a77d",
        "colab": {
          "base_uri": "https://localhost:8080/",
          "height": 1000
        }
      },
      "source": [
        "import torch\n",
        "import torchvision.transforms as transforms\n",
        "import cv2\n",
        "from model.resnet import Resnet18Triplet\n",
        "\n",
        "checkpoint = torch.load('model/model_resnet18_triplet.pt')\n",
        "model = Resnet18Triplet(embedding_dimension=checkpoint['embedding_dimension'])\n",
        "model.load_state_dict(checkpoint['model_state_dict'])\n",
        "best_distance_threshold = checkpoint['best_distance_threshold']\n",
        "\n",
        "flag_gpu_available = torch.cuda.is_available()\n",
        "\n",
        "if flag_gpu_available:\n",
        "    device = torch.device(\"cuda\")\n",
        "else:\n",
        "    device = torch.device(\"cpu\")\n",
        "\n",
        "model.to(device)\n",
        "model.eval()\n",
        "\n",
        "preprocess = transforms.Compose([\n",
        "  transforms.ToPILImage(),\n",
        "  transforms.Resize(size=224),  # Pre-trained model uses 224x224 input images\n",
        "  transforms.ToTensor(),\n",
        "  transforms.Normalize(\n",
        "      mean=[0.6068, 0.4517, 0.3800],  # Normalization settings for the model, the calculated mean and std values\n",
        "      std=[0.2492, 0.2173, 0.2082]     # for the RGB channels of the tightly-cropped VGGFace2 face dataset\n",
        "  )\n",
        "])\n",
        "\n",
        "img = cv2.imread('face.jpg')  # Or from a cv2 video capture stream\n",
        "\n",
        "# Convert the image from BGR color (which OpenCV uses) to RGB color\n",
        "img = img[:, :, ::-1]\n",
        "\n",
        "img = preprocess(img)\n",
        "img = img.unsqueeze(0)\n",
        "img = img.to(device)\n",
        "\n",
        "embedding = model(img)\n",
        "\n",
        "# Turn embedding Torch Tensor to Numpy array\n",
        "embedding = embedding.cpu().detach().numpy()\n",
        "print(embedding)\n"
      ],
      "execution_count": 8,
      "outputs": [
        {
          "output_type": "stream",
          "text": [
            "[[ 8.45085160e-05  8.17381442e-06 -1.89475268e-01  2.61618084e-06\n",
            "   1.20416321e-01  1.10255196e-05  1.48637407e-02  1.32254138e-06\n",
            "   1.88827255e-06  5.49431518e-02 -7.08074309e-04  1.56056844e-02\n",
            "   1.03912089e-05  1.86578347e-06  1.09282642e-04  2.57150782e-06\n",
            "  -1.22053482e-01 -4.52221325e-03  3.48119033e-06  2.01754938e-06\n",
            "   1.89974969e-06  4.07906100e-06  4.73799169e-01  5.04545085e-02\n",
            "   2.09138307e-06  1.99857550e-06  2.95974041e-06  2.05711558e-06\n",
            "   3.35202529e-03  2.90626735e-06  2.07481162e-06  1.92121342e-06\n",
            "   3.23913355e-06  4.86297040e-06  1.78675509e-05  8.09371068e-06\n",
            "   2.59691888e-06  9.21855826e-06  2.07371409e-06 -1.88682287e-04\n",
            "  -1.47846831e-05  1.87075887e-06  4.30972023e-06  2.00291697e-06\n",
            "   2.17730394e-06  3.89044253e-05 -1.12981261e-05  1.93698634e-06\n",
            "   2.09495829e-06  2.26930433e-06  3.15283046e-06 -6.32014405e-03\n",
            "  -2.10691872e-03  1.00990105e-03  2.80131439e-06  1.90757919e-06\n",
            "   4.09203631e-06 -3.92619995e-07  2.55415512e-06  1.55589342e-01\n",
            "  -5.26178908e-03  6.26290813e-02  2.06503955e-06  9.09425762e-06\n",
            "   5.39780103e-06  1.25310244e-05  1.26140339e-05 -8.39339569e-03\n",
            "  -1.27511919e-02 -4.06830534e-02  3.35468076e-06  8.29512544e-07\n",
            "   4.44830112e-05 -4.21982229e-01  1.90073638e-06  1.92633638e-06\n",
            "   2.65284916e-06  1.07485347e-03  4.95104827e-02 -3.71790603e-02\n",
            "   2.77760010e-02 -9.70848942e-06  4.76799460e-06 -3.78234461e-02\n",
            "   2.61705052e-02 -3.33699281e-03  2.70197506e-06  3.12898221e-04\n",
            "   1.91245545e-06  1.07119665e-01  2.34648678e-06 -1.62796787e-04\n",
            "   6.78410288e-06  2.35049856e-06  3.40663610e-06  2.84836483e-06\n",
            "  -1.74767718e-01  2.10203962e-06 -4.48951870e-03  6.27810778e-06\n",
            "  -2.58548766e-01  7.45325058e-04  1.06059024e-05  6.12455187e-03\n",
            "   3.96823134e-06 -8.31812844e-02 -2.29382476e-05 -9.14070979e-02\n",
            "   1.87397745e-06  6.35117749e-06 -2.92090444e-05  4.86377439e-06\n",
            "   2.13280305e-06 -9.32602398e-03  2.04987464e-06  1.85814497e-04\n",
            "   2.90733078e-05  3.93336859e-06  3.38614632e-06  4.65497105e-05\n",
            "   4.45806868e-02  4.79276741e-06  1.88345643e-06  2.22583844e-06\n",
            "   3.03426027e-01  1.97927193e-06 -1.56556908e-02  3.80816959e-06\n",
            "  -7.27199167e-02  2.06400045e-06  3.20519139e-05  2.32674302e-06\n",
            "  -2.45675095e-04 -3.29527929e-02  1.99909800e-06  2.05178230e-06\n",
            "  -1.10720970e-01 -2.28270469e-03  4.05538822e-06  2.00130967e-06\n",
            "   2.38280450e-06 -4.49434901e-03 -1.33863819e-06 -2.04280932e-02\n",
            "  -9.26628802e-03  3.57364183e-06  3.98885231e-06 -8.80720472e-06\n",
            "   3.38813061e-06  1.07647807e-04 -8.09919983e-02  9.95338996e-06\n",
            "   3.14928366e-05  2.79871874e-05  1.85789372e-06  3.20405252e-06\n",
            "  -2.73019797e-03 -2.18697489e-04 -5.32177917e-04  1.90469882e-06\n",
            "   3.50156984e-06  4.01663072e-02  3.51050039e-06  2.75931461e-06\n",
            "   1.86879254e-06  2.71311751e-06  3.70987277e-06 -1.95495337e-01\n",
            "   5.09409301e-06  1.29226834e-01  3.13794427e-03  1.02038057e-05\n",
            "   1.02004567e-02  4.30529588e-04  2.08624442e-06  4.66282108e-06\n",
            "   2.32323305e-06 -3.19577195e-03  4.21290621e-02  1.94853465e-06\n",
            "   7.85141345e-03 -3.02274842e-02  2.48665901e-06  2.60801357e-06\n",
            "  -2.66921461e-01  1.91368190e-06  1.57361341e-04  1.82139011e-05\n",
            "   2.17207344e-06  2.41202815e-06  4.96335961e-05  2.79942606e-06\n",
            "   2.68768576e-06 -2.95048576e-05  1.59352779e-01  6.86733074e-06\n",
            "   2.03290415e-06  3.73298212e-06 -3.96255964e-05  1.12730712e-01\n",
            "   2.10357557e-05  3.28828219e-06  1.59308582e-03  3.28847250e-06\n",
            "  -1.39390148e-04  3.82925327e-06  1.95466191e-06 -6.60455844e-04\n",
            "  -5.86542413e-02  1.57520670e-04  2.18406285e-06  1.43153729e-05\n",
            "   3.44195405e-06  1.86441650e-06  2.63737752e-06 -2.28219420e-01\n",
            "   2.05447509e-06  3.25337101e-06 -5.84662803e-06  1.90887977e-06\n",
            "   2.37368795e-06  2.15425212e-06 -2.90116742e-02  2.03133777e-06\n",
            "   4.34823824e-06 -1.26001135e-06  2.56205403e-05  6.56403427e-06\n",
            "   1.95545067e-06  1.99407691e-06 -4.99544619e-03  3.04747209e-06\n",
            "  -4.66990098e-02  2.65019730e-06  9.62802470e-02 -4.77537699e-02\n",
            "  -3.32014784e-02  2.27928695e-06  2.88503679e-06 -2.80551910e-02\n",
            "   3.34531251e-06 -6.31602407e-02  2.32511434e-06  2.23096072e-06\n",
            "   1.79041253e-05  2.91169184e-04 -1.25460932e-02  3.00520196e-06\n",
            "   2.38401536e-03  1.85286217e-06  1.95335042e-06  5.04480535e-03\n",
            "   1.97882014e-06  6.06373487e-06  1.48175786e-05  2.01902412e-06]]\n"
          ],
          "name": "stdout"
        }
      ]
    },
    {
      "cell_type": "code",
      "metadata": {
        "id": "nvzPgemvrRz8"
      },
      "source": [
        ""
      ],
      "execution_count": null,
      "outputs": []
    }
  ]
}